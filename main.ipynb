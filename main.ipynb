{
 "cells": [
  {
   "cell_type": "markdown",
   "metadata": {},
   "source": [
    "## Базові типи даних\n",
    "### числові та стічкові"
   ]
  },
  {
   "cell_type": "code",
   "execution_count": 1,
   "metadata": {},
   "outputs": [
    {
     "name": "stdout",
     "output_type": "stream",
     "text": [
      "Дмитро Гімза\n",
      "312331312\n",
      "['f', 1, 1.25, 'Слово', 'дію']\n",
      "{'f': 'Слово', 'd': 1, 'a': 'дію'}\n",
      "('f', '12', 'dd')\n",
      "{'kk', 'aa', 'ff', 'cc'}\n"
     ]
    }
   ],
   "source": [
    "a = \"Дмитро Гімза\"\n",
    "b = 312331312 # числова Змінна\n",
    "c = [\"f\", 1, 1.25, \"Слово\", \"дію\" ] # List\n",
    "d = {\"f\": \"Слово\", \"d\": 1, \"a\": \"дію\"} # Dict\n",
    "e = (\"f\",\"12\", \"dd\" ) # Tuple\n",
    "f = {\"cc\",\"aa\", \"kk\", \"ff\" } # Set\n",
    "\n",
    "print(a)\n",
    "print(b)\n",
    "print(c)\n",
    "print(d)\n",
    "print(e)\n",
    "print(f)"
   ]
  },
  {
   "cell_type": "markdown",
   "metadata": {},
   "source": [
    "### Константи"
   ]
  },
  {
   "cell_type": "code",
   "execution_count": 2,
   "metadata": {},
   "outputs": [
    {
     "name": "stdout",
     "output_type": "stream",
     "text": [
      "Перша константа False\n",
      "Друга константа True\n",
      "False False\n",
      "None\n"
     ]
    }
   ],
   "source": [
    "print(\"Перша константа\", False)\n",
    "print(\"Друга константа\", True)\n",
    "print(False, False)\n",
    "print(None)"
   ]
  },
  {
   "cell_type": "markdown",
   "metadata": {},
   "source": [
    "### Робота з вбуваними функціями"
   ]
  },
  {
   "cell_type": "code",
   "execution_count": 3,
   "metadata": {},
   "outputs": [
    {
     "name": "stdout",
     "output_type": "stream",
     "text": [
      "well\n",
      "10.01 є рівним 10.01\n",
      "Моділі рівні\n",
      "10.01\n"
     ]
    }
   ],
   "source": [
    "def my_pretty_function(): \n",
    "    print(\"well\")\n",
    "\n",
    "my_pretty_function()\n",
    "\n",
    "print(abs(-10.01), f\"є рівним {abs(10.01)}\")\n",
    "print(\"Моділі рівні\" if abs(-10.01) == abs(10.01) else \"Вони не рівні\")\n",
    "\n",
    "print(round(10.0125, 2))"
   ]
  },
  {
   "cell_type": "markdown",
   "metadata": {},
   "source": [
    "### Робота з циклами"
   ]
  },
  {
   "cell_type": "code",
   "execution_count": 4,
   "metadata": {},
   "outputs": [
    {
     "name": "stdout",
     "output_type": "stream",
     "text": [
      "Значення а = 1\n",
      "Це не виконається\n",
      "Значення а = 2\n",
      "Це не виконається\n",
      "Значення а = 3\n",
      "Це не виконається\n",
      "Значення а = 5\n",
      "Це не виконається\n",
      "Значення а = 6\n",
      "Це не виконається\n",
      "Значення а = 7\n",
      "Це не виконається\n",
      "Значення а = 8\n",
      "Це не виконається\n",
      "Перервали цикл на значенні 9\n",
      "?+??+??+??+??+??+??+??+? Закінчили з while ?+??+??+??+??+??+??+??+?\n"
     ]
    },
    {
     "ename": "NameError",
     "evalue": "name 'll_2' is not defined",
     "output_type": "error",
     "traceback": [
      "\u001b[1;31m---------------------------------------------------------------------------\u001b[0m",
      "\u001b[1;31mNameError\u001b[0m                                 Traceback (most recent call last)",
      "Cell \u001b[1;32mIn [4], line 15\u001b[0m\n\u001b[0;32m     12\u001b[0m     \u001b[39mprint\u001b[39m(\u001b[39m\"\u001b[39m\u001b[39mЦе не виконається\u001b[39m\u001b[39m\"\u001b[39m)\n\u001b[0;32m     13\u001b[0m \u001b[39mprint\u001b[39m(delimitter, \u001b[39m\"\u001b[39m\u001b[39mЗакінчили з while\u001b[39m\u001b[39m\"\u001b[39m, delimitter)   \n\u001b[1;32m---> 15\u001b[0m \u001b[39mfor\u001b[39;00m i \u001b[39min\u001b[39;00m ll_2:\n\u001b[0;32m     16\u001b[0m     \u001b[39mprint\u001b[39m(\u001b[39mf\u001b[39m\u001b[39m\"\u001b[39m\u001b[39mпроходимо в циклі елемент \u001b[39m\u001b[39m{\u001b[39;00mi\u001b[39m}\u001b[39;00m\u001b[39m його тип \u001b[39m\u001b[39m{\u001b[39;00m\u001b[39mtype\u001b[39m(i)\u001b[39m}\u001b[39;00m\u001b[39m\"\u001b[39m)\n\u001b[0;32m     17\u001b[0m \u001b[39mprint\u001b[39m(delimitter, \u001b[39m\"\u001b[39m\u001b[39mЗакінчили перший приклад з for\u001b[39m\u001b[39m\"\u001b[39m, delimitter) \n",
      "\u001b[1;31mNameError\u001b[0m: name 'll_2' is not defined"
     ]
    }
   ],
   "source": [
    "delimitter = \"?+?\"*8\n",
    "a = 0\n",
    "while True: # подвійна перевірка умови трохи неправильно\n",
    "    a += 1   \n",
    "    if a > 8:\n",
    "        print(f\"Перервали цикл на значенні {a}\")\n",
    "        break\n",
    "    elif a == 4:\n",
    "        continue\n",
    "    \n",
    "    print(f\"Значення а = {a}\")\n",
    "    print(\"Це не виконається\")\n",
    "print(delimitter, \"Закінчили з while\", delimitter)   \n",
    "\n",
    "for i in ll_2:\n",
    "    print(f\"проходимо в циклі елемент {i} його тип {type(i)}\")\n",
    "print(delimitter, \"Закінчили перший приклад з for\", delimitter) \n",
    "\n",
    "for i in range(2, 10, 3): # (start, stop, step)\n",
    "    print(i) \n",
    "\n",
    "print(list(f\"Проходимо ітерацію {one_line}\" for one_line in [1, 2]))"
   ]
  },
  {
   "cell_type": "markdown",
   "metadata": {},
   "source": [
    "### Розгалуження"
   ]
  },
  {
   "cell_type": "code",
   "execution_count": null,
   "metadata": {},
   "outputs": [
    {
     "name": "stdout",
     "output_type": "stream",
     "text": [
      "Значить А=True\n",
      "Це виконається!!!\n"
     ]
    }
   ],
   "source": [
    "A = True\n",
    "print(\"Значить А=True\" if A else \"Значить А=False\")\n",
    "\n",
    "A = 3\n",
    "if A > 3:\n",
    "    print(\"Це не виконається\")\n",
    "elif A == 1:\n",
    "    print(\"Це не виконається\")\n",
    "elif A != 5:\n",
    "    print(\"Це виконається!!!\")\n",
    "else:\n",
    "    print(\"гарантовано фолс\")"
   ]
  },
  {
   "cell_type": "markdown",
   "metadata": {},
   "source": [
    "### Робота з Exceptions\n"
   ]
  },
  {
   "cell_type": "code",
   "execution_count": null,
   "metadata": {},
   "outputs": [
    {
     "ename": "ZeroDivisionError",
     "evalue": "division by zero",
     "output_type": "error",
     "traceback": [
      "\u001b[1;31m---------------------------------------------------------------------------\u001b[0m",
      "\u001b[1;31mZeroDivisionError\u001b[0m                         Traceback (most recent call last)",
      "Cell \u001b[1;32mIn [12], line 3\u001b[0m\n\u001b[0;32m      1\u001b[0m ll \u001b[39m=\u001b[39m [\u001b[39m1\u001b[39m, \u001b[39m5\u001b[39m, \u001b[39m0\u001b[39m, \u001b[39m8\u001b[39m]\n\u001b[1;32m----> 3\u001b[0m \u001b[39mprint\u001b[39m([\u001b[39m10\u001b[39m \u001b[39m/\u001b[39m x \u001b[39mfor\u001b[39;00m x \u001b[39min\u001b[39;00m ll])\n\u001b[0;32m      5\u001b[0m \u001b[39mprint\u001b[39m(\u001b[39m\"\u001b[39m\u001b[39mЦе текст не виводиться тому що сталась помилка\u001b[39m\u001b[39m\"\u001b[39m)\n",
      "Cell \u001b[1;32mIn [12], line 3\u001b[0m, in \u001b[0;36m<listcomp>\u001b[1;34m(.0)\u001b[0m\n\u001b[0;32m      1\u001b[0m ll \u001b[39m=\u001b[39m [\u001b[39m1\u001b[39m, \u001b[39m5\u001b[39m, \u001b[39m0\u001b[39m, \u001b[39m8\u001b[39m]\n\u001b[1;32m----> 3\u001b[0m \u001b[39mprint\u001b[39m([\u001b[39m10\u001b[39;49m \u001b[39m/\u001b[39;49m x \u001b[39mfor\u001b[39;00m x \u001b[39min\u001b[39;00m ll])\n\u001b[0;32m      5\u001b[0m \u001b[39mprint\u001b[39m(\u001b[39m\"\u001b[39m\u001b[39mЦе текст не виводиться тому що сталась помилка\u001b[39m\u001b[39m\"\u001b[39m)\n",
      "\u001b[1;31mZeroDivisionError\u001b[0m: division by zero"
     ]
    }
   ],
   "source": [
    "ll = [1, 5, 0, 8]\n",
    "\n",
    "print([10 / x for x in ll])\n",
    "\n",
    "print(\"Це текст не виводиться тому що сталась помилка\")"
   ]
  },
  {
   "cell_type": "code",
   "execution_count": null,
   "metadata": {},
   "outputs": [
    {
     "name": "stdout",
     "output_type": "stream",
     "text": [
      "Сталася помилка!!, ми виконали raise\n",
      "Сталася помилка!! =>>  division by zero\n",
      "Випадковий вибір Str\n",
      "Сталася помилка!! =>>  unsupported operand type(s) for /: 'int' and 'str'\n",
      "Це виведеться завждиб чи є помилка чи її немає\n"
     ]
    }
   ],
   "source": [
    "try:\n",
    "    raise\n",
    "except:\n",
    "    print(\"Сталася помилка!!, ми виконали raise\")\n",
    "\n",
    "\n",
    "A = 0\n",
    "try:\n",
    "    print(\"Що буде якщо\", 20/A, \"?\")\n",
    "except Exception as e:\n",
    "    print(\"Сталася помилка!! =>> \", e)\n",
    "\n",
    "import random\n",
    "A = random.choice([\"Str\", 5, 0])\n",
    "print(f\"Випадковий вибір {A}\")\n",
    "try:\n",
    "    print(\"Що буде якщо\", 20/A, \"?\")\n",
    "    #print(non_exist_variable)\n",
    "    print(\"Це без помилок\")\n",
    "except (ZeroDivisionError, NameError, TypeError) as e:\n",
    "    print(\"Сталася помилка!! =>> \", e)\n",
    "finally:\n",
    "    print(\"Це виведеться завждиб чи є помилка чи її немає\")"
   ]
  },
  {
   "cell_type": "markdown",
   "metadata": {},
   "source": [
    "### Робота з контекст менеджерами"
   ]
  },
  {
   "cell_type": "code",
   "execution_count": null,
   "metadata": {},
   "outputs": [
    {
     "ename": "FileNotFoundError",
     "evalue": "[Errno 2] No such file or directory: 'text.txt'",
     "output_type": "error",
     "traceback": [
      "\u001b[1;31m---------------------------------------------------------------------------\u001b[0m",
      "\u001b[1;31mFileNotFoundError\u001b[0m                         Traceback (most recent call last)",
      "Cell \u001b[1;32mIn [14], line 5\u001b[0m\n\u001b[0;32m      1\u001b[0m \u001b[39m#f = open(\"text.txt\", \"r\")\u001b[39;00m\n\u001b[0;32m      2\u001b[0m \u001b[39m#print(f.readlines())\u001b[39;00m\n\u001b[0;32m      3\u001b[0m \u001b[39m#f.close()\u001b[39;00m\n\u001b[1;32m----> 5\u001b[0m \u001b[39mwith\u001b[39;00m \u001b[39mopen\u001b[39;49m(\u001b[39m\"\u001b[39;49m\u001b[39mtext.txt\u001b[39;49m\u001b[39m\"\u001b[39;49m, \u001b[39m\"\u001b[39;49m\u001b[39mr\u001b[39;49m\u001b[39m\"\u001b[39;49m) \u001b[39mas\u001b[39;00m f:\n\u001b[0;32m      6\u001b[0m     \u001b[39mfor\u001b[39;00m line \u001b[39min\u001b[39;00m f:\n\u001b[0;32m      7\u001b[0m         \u001b[39mprint\u001b[39m(line)\n",
      "\u001b[1;31mFileNotFoundError\u001b[0m: [Errno 2] No such file or directory: 'text.txt'"
     ]
    }
   ],
   "source": [
    "#f = open(\"text.txt\", \"r\")\n",
    "#print(f.readlines())\n",
    "#f.close()\n",
    "\n",
    "with open(\"text.txt\", \"r\") as f:\n",
    "    for line in f:\n",
    "        print(line)\n",
    "    print(f.readlines()) ### ??? \n",
    "    "
   ]
  },
  {
   "cell_type": "markdown",
   "metadata": {},
   "source": [
    "### Робота з Lambdas"
   ]
  },
  {
   "cell_type": "code",
   "execution_count": null,
   "metadata": {},
   "outputs": [
    {
     "name": "stdout",
     "output_type": "stream",
     "text": [
      "Це просто функція: <function main at 0x0000027606F67AC0>\n",
      "Це її виклик функції: Цей код написала: Діана ДІ\n",
      "Це просто функція (лямбда): <function <lambda> at 0x0000027606F67370>\n",
      "Це її виклик: Цей код написала: Діана Ді\n"
     ]
    }
   ],
   "source": [
    "def main(first:str, last:str):\n",
    "    return f'Цей код написала: {first} {last}'\n",
    "\n",
    "print(\"Це просто функція:\", main)\n",
    "print(\"Це її виклик функції:\", main('Діана', 'ДІ'))\n",
    "\n",
    "this_is_lambda = lambda first, last: f'Цей код написала: {first} {last}'\n",
    "print(\"Це просто функція (лямбда):\", this_is_lambda)\n",
    "print(\"Це її виклик:\", this_is_lambda('Діана', 'Ді'))"
   ]
  }
 ],
 "metadata": {
  "kernelspec": {
   "display_name": "Python 3.11.0 64-bit",
   "language": "python",
   "name": "python3"
  },
  "language_info": {
   "codemirror_mode": {
    "name": "ipython",
    "version": 3
   },
   "file_extension": ".py",
   "mimetype": "text/x-python",
   "name": "python",
   "nbconvert_exporter": "python",
   "pygments_lexer": "ipython3",
   "version": "3.11.0"
  },
  "orig_nbformat": 4,
  "vscode": {
   "interpreter": {
    "hash": "f20ab87d6a3ff6ba42d2ef397e4f998400337c529080cfa5d542bf12e78eea55"
   }
  }
 },
 "nbformat": 4,
 "nbformat_minor": 2
}
